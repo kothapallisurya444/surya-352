{
 "cells": [
  {
   "cell_type": "raw",
   "id": "c587f1da-77d4-404b-a3c6-136e58bd0a1f",
   "metadata": {},
   "source": [
    "if condition1:\n",
    "    task1 block of code\n",
    "elif condition2:\n",
    "    task2 block of code\n",
    "elif condition3:\n",
    "    task3 block of code\n",
    "   .\n",
    "\n",
    "   .\n",
    "\n",
    "   .\n",
    "elif conditionN:\n",
    "     task block of code\n",
    "else:==0\n",
    "    task4 block of code"
   ]
  },
  {
   "cell_type": "code",
   "execution_count": 1,
   "id": "d621238d-a763-474c-871a-d8c4f7108265",
   "metadata": {},
   "outputs": [
    {
     "name": "stdout",
     "output_type": "stream",
     "text": [
      "odd\n"
     ]
    }
   ],
   "source": [
    "x =9\n",
    "if x%2==0:\n",
    "    print(\"even\")\n",
    "else:\n",
    "    print(\"odd\")"
   ]
  },
  {
   "cell_type": "code",
   "execution_count": 3,
   "id": "bd2281fc-e38c-48af-acbd-a405f259dc75",
   "metadata": {},
   "outputs": [
    {
     "data": {
      "text/plain": [
       "True"
      ]
     },
     "execution_count": 3,
     "metadata": {},
     "output_type": "execute_result"
    }
   ],
   "source": [
    "x=8\n",
    "x%2==0"
   ]
  },
  {
   "cell_type": "code",
   "execution_count": 5,
   "id": "c10ff45d-342e-4a39-9892-b3c4a6663870",
   "metadata": {},
   "outputs": [
    {
     "data": {
      "text/plain": [
       "14"
      ]
     },
     "execution_count": 5,
     "metadata": {},
     "output_type": "execute_result"
    }
   ],
   "source": [
    "x+6"
   ]
  },
  {
   "cell_type": "code",
   "execution_count": 9,
   "id": "ccc74027-8d79-4f86-9d69-971fb80bca2d",
   "metadata": {},
   "outputs": [
    {
     "name": "stdout",
     "output_type": "stream",
     "text": [
      "neg\n"
     ]
    }
   ],
   "source": [
    "x=-5.8\n",
    "if x>0:\n",
    "    print('pos')\n",
    "elif x<0:\n",
    "    print('neg')\n",
    "else:\n",
    "    print('zero')"
   ]
  },
  {
   "cell_type": "code",
   "execution_count": 37,
   "id": "d5eb0499-6c46-4434-beaa-3813eee8aa01",
   "metadata": {},
   "outputs": [
    {
     "name": "stdout",
     "output_type": "stream",
     "text": [
      "pos\n",
      "p\n"
     ]
    }
   ],
   "source": [
    "x=12\n",
    "if x>0:\n",
    "    print('pos')\n",
    "    if x>20:\n",
    "        print('m')\n",
    "    elif x>10:\n",
    "        print('p')\n",
    "    elif x<10:\n",
    "        print('k')\n",
    "    else:\n",
    "        print('t')\n",
    "elif x<0:\n",
    "    print('neg')\n",
    "    if x<-20:\n",
    "        print('q')\n",
    "    elif x>-10:\n",
    "        print('c')\n",
    "    elif x>-30:\n",
    "        print('z')\n",
    "else:\n",
    "    print('zero')"
   ]
  },
  {
   "cell_type": "code",
   "execution_count": 43,
   "id": "5079fbfd-48c5-407b-b312-39f30804b15e",
   "metadata": {},
   "outputs": [
    {
     "name": "stdin",
     "output_type": "stream",
     "text": [
      " Telangana\n"
     ]
    },
    {
     "name": "stdout",
     "output_type": "stream",
     "text": [
      "true\n"
     ]
    }
   ],
   "source": [
    "x = input()\n",
    "if x.startswith(\"T\" or\"t\"):\n",
    "    print(\"true\")\n",
    "else:\n",
    "    print('false')\n"
   ]
  },
  {
   "cell_type": "code",
   "execution_count": 53,
   "id": "4b83fa84-155e-4513-b030-880ef6df2560",
   "metadata": {},
   "outputs": [
    {
     "name": "stdout",
     "output_type": "stream",
     "text": [
      "liger\n",
      "no\n"
     ]
    }
   ],
   "source": [
    "x = 'liger'\n",
    "print(x)\n",
    "if x[0]=='T'  or x[0]=='t':\n",
    "    print('yes')\n",
    "else:\n",
    "    print('no')"
   ]
  },
  {
   "cell_type": "code",
   "execution_count": 57,
   "id": "a8f7be21-4d26-4e1c-984d-789a026c60fe",
   "metadata": {},
   "outputs": [
    {
     "name": "stdin",
     "output_type": "stream",
     "text": [
      " singapore\n"
     ]
    },
    {
     "name": "stdout",
     "output_type": "stream",
     "text": [
      "true\n"
     ]
    }
   ],
   "source": [
    "x = input()\n",
    "if x[0]=='t' or x[0]=='T':\n",
    "    print('true')\n",
    "elif x[0]=='s'or x[0]=='S':\n",
    "    print(\"true\")\n",
    "elif x[0]=='m'or x[0]=='M':\n",
    "    print(\"true\")\n",
    "else:\n",
    "    print('false')\n",
    "\n",
    "\n",
    "    "
   ]
  },
  {
   "cell_type": "code",
   "execution_count": 63,
   "id": "cc328620-94fd-4683-b0c1-87674134194a",
   "metadata": {},
   "outputs": [
    {
     "name": "stdout",
     "output_type": "stream",
     "text": [
      "yes\n"
     ]
    }
   ],
   "source": [
    "x = 'tiger'\n",
    "if x[0].lower()=='t':\n",
    "    print('yes')\n",
    "else:\n",
    "    print('no')"
   ]
  },
  {
   "cell_type": "code",
   "execution_count": 69,
   "id": "66c35c6c-44bc-475a-ba00-1659b81edd2f",
   "metadata": {},
   "outputs": [
    {
     "name": "stdout",
     "output_type": "stream",
     "text": [
      "yes\n"
     ]
    }
   ],
   "source": [
    "x = 'Mumbai'\n",
    "if x[0].lower() in ('s','m','t'):\n",
    "    print('yes')\n",
    "else:\n",
    "    print('no')"
   ]
  },
  {
   "cell_type": "code",
   "execution_count": null,
   "id": "403eb4be-822f-46ee-82ff-5f384613688c",
   "metadata": {},
   "outputs": [],
   "source": []
  }
 ],
 "metadata": {
  "kernelspec": {
   "display_name": "Python [conda env:base] *",
   "language": "python",
   "name": "conda-base-py"
  },
  "language_info": {
   "codemirror_mode": {
    "name": "ipython",
    "version": 3
   },
   "file_extension": ".py",
   "mimetype": "text/x-python",
   "name": "python",
   "nbconvert_exporter": "python",
   "pygments_lexer": "ipython3",
   "version": "3.12.7"
  }
 },
 "nbformat": 4,
 "nbformat_minor": 5
}
